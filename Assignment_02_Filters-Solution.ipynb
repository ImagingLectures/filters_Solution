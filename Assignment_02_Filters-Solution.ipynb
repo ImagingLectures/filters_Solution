{
 "cells": [
  {
   "cell_type": "markdown",
   "metadata": {},
   "source": [
    "# Assignment 2 - Filters"
   ]
  },
  {
   "cell_type": "code",
   "execution_count": null,
   "metadata": {
    "collapsed": true
   },
   "outputs": [],
   "source": [
    "import numpy as np\n",
    "import matplotlib.pyplot as plt\n",
    "from scipy import ndimage\n",
    "import skimage as ski\n",
    "# this line is needed to display the plots and images inline on the notebook\n",
    "%matplotlib inline "
   ]
  },
  {
   "cell_type": "markdown",
   "metadata": {},
   "source": [
    "## Low-pass filters\n",
    "Load the test image sand_bilevel.png and add Gaussian noise $\\mathcal{N}$(0,0.25).\n",
    "\n",
    "### Exercise 1\n",
    "Test filter performance of different image filters:\n",
    "* Box (3$\\times$3, 5$\\times$5, 7$\\times$7)\n",
    "* Gauss $\\sigma$=1,2,3\n",
    "\n"
   ]
  },
  {
   "cell_type": "markdown",
   "metadata": {},
   "source": [
    "### Step 1: Prepare test image"
   ]
  },
  {
   "cell_type": "code",
   "execution_count": null,
   "metadata": {},
   "outputs": [],
   "source": [
    "original = plt.imread('sand_bilevel.png').astype('double') # add you loadning code here\n",
    "noisy    = original + np.random.normal(0,0.25,original.shape) # add the Gaussian noise\n",
    "plt.figure(figsize=[15,7])\n",
    "plt.subplot(1,3,1)\n",
    "plt.imshow(original)\n",
    "plt.subplot(1,3,2)\n",
    "plt.imshow(noisy)"
   ]
  },
  {
   "cell_type": "markdown",
   "metadata": {},
   "source": [
    "### Step 2: Apply box filters to the test data\n",
    "Box filters are computed using the function\n",
    "b = ndimage.filters.uniform_filter(img,[N,N])\n",
    "\n",
    "* img the image to filter\n",
    "* N kernel size\n",
    "* b resulting image"
   ]
  },
  {
   "cell_type": "markdown",
   "metadata": {},
   "source": [
    "Apply the box filter on your test image with N=(3$\\times$3, 5$\\times$5, 7$\\times$7)\n",
    "\n",
    "It is recommended to use plt.subplot to save space on screen"
   ]
  },
  {
   "cell_type": "markdown",
   "metadata": {},
   "source": [
    "#### Solution 1 boxfilter"
   ]
  },
  {
   "cell_type": "code",
   "execution_count": null,
   "metadata": {},
   "outputs": [],
   "source": [
    "# your code here\n",
    "plt.figure(figsize=[12,5])\n",
    "NN=[3,5,7]\n",
    "for idx,N in enumerate(NN) :\n",
    "    plt.subplot(1,3,idx+1)\n",
    "    plt.imshow(ndimage.filters.uniform_filter(noisy,size=[N,N]))"
   ]
  },
  {
   "cell_type": "markdown",
   "metadata": {},
   "source": [
    "### Step 3: Gauss filter\n",
    "Gauss filters are computed using the function\n",
    "g = ndimage.filters.gaussian_filter(img,sigma=s)\n",
    "\n",
    "* img the image to filter\n",
    "* s is the width of the kernel\n",
    "* g resulting image\n",
    "\n",
    "Apply Gauss filters with $\\sigma$=1,2,3\n",
    "\n",
    "It is recommended to use plt.subplot to save space"
   ]
  },
  {
   "cell_type": "code",
   "execution_count": null,
   "metadata": {
    "scrolled": true
   },
   "outputs": [],
   "source": [
    "# your code here\n",
    "plt.figure(figsize=[12,5])\n",
    "nsig=[3,5,7]\n",
    "for idx,sigma in enumerate(nsig) :\n",
    "    plt.subplot(1,3,idx+1)\n",
    "    plt.imshow(ndimage.filters.gaussian_filter(noisy,sigma=sigma))"
   ]
  },
  {
   "cell_type": "markdown",
   "metadata": {},
   "source": [
    "## Separable kernels\n",
    "### Exercise 2 \n",
    "Compare (subtract) how well separation of a kernel works. Use box filters 3$\\times$3 and 7$\\times$7. \n",
    "\n",
    "You need to call ndimage.filters.uniform_filter twice once with [N,1] and once with [1,N]\n",
    "\n",
    "* How well does it match visually\n",
    "* Is there a numeric difference, why?"
   ]
  },
  {
   "cell_type": "markdown",
   "metadata": {},
   "source": [
    "#### Solution exercise 2"
   ]
  },
  {
   "cell_type": "code",
   "execution_count": null,
   "metadata": {},
   "outputs": [],
   "source": [
    "# your code here\n",
    "f3=ndimage.filters.uniform_filter(noisy,size=[3,3])\n",
    "f3s=ndimage.filters.uniform_filter(ndimage.filters.uniform_filter(noisy,size=[3,1]),size=[1,3])\n",
    "plt.subplot(1,3,1)\n",
    "plt.imshow(f3)\n",
    "plt.subplot(1,3,2)\n",
    "plt.imshow(f3s)\n",
    "plt.subplot(1,3,3)\n",
    "plt.imshow(f3-f3s)\n"
   ]
  },
  {
   "cell_type": "markdown",
   "metadata": {},
   "source": [
    "#### Answers\n",
    "1. Visually the images look very similar\n",
    "2. The difference, if any, is mainly due to the numeric precision if single or ints are used"
   ]
  },
  {
   "cell_type": "markdown",
   "metadata": {},
   "source": [
    "## Gradients\n",
    "\n",
    "Now we want to test the accuracy of two gradient kernels. To do\n",
    "this create a 1001$\\times$ 1001 image representing\n",
    "\n",
    "$f(x,y)=\\sin(x^2+y^2),\\qquad -5\\leq x,\\,y\\leq 5$\n",
    "\n",
    "This will be our test image. Compute the analytical gradient of\n",
    "$f(x,y)$:\n",
    "\n",
    "$\\nabla\\,f=\\left[\\begin{array}{cc}\\frac{\\partial}{\\partial x}f &\n",
    "\\frac{\\partial}{\\partial y}f\\end{array}\\right]$\n",
    "\n",
    "and create an image containing the argument of the gradient (use\n",
    "atan2), this will be our reference image."
   ]
  },
  {
   "cell_type": "markdown",
   "metadata": {},
   "source": [
    "#### Solution"
   ]
  },
  {
   "cell_type": "code",
   "execution_count": null,
   "metadata": {},
   "outputs": [],
   "source": [
    "# your code here\n",
    "\n",
    "[x,y]=np.meshgrid(np.linspace(-5,5,1001),np.linspace(-5,5,1001))\n",
    "f=np.sin(x**2+y**2)\n",
    "dfdx=2*x*np.cos(x**2+y**2)\n",
    "dfdy=2*y*np.cos(x**2+y**2)\n",
    "argf=np.arctan2(dfdx,dfdy)\n",
    "plt.figure(figsize=[15,4])\n",
    "plt.subplot(1,4,1)\n",
    "plt.imshow(f)\n",
    "plt.title('input')\n",
    "plt.subplot(1,4,2)\n",
    "plt.imshow(dfdx)\n",
    "plt.title(r'$\\partial f/\\partial x$')\n",
    "plt.subplot(1,4,3)\n",
    "plt.imshow(dfdy)\n",
    "plt.title(r'$\\partial f/\\partial y$')\n",
    "plt.subplot(1,4,4)\n",
    "plt.imshow(argf)\n",
    "plt.title(r'$arg(\\nabla f)$')\n"
   ]
  },
  {
   "cell_type": "markdown",
   "metadata": {},
   "source": [
    "Now create the filter kernels for\n",
    "\n",
    "$G1_x={G1_y}^T=\\frac{1}{2}\\left[\\begin{array}{cc} -1 & 1\\end{array}\\right]$\n",
    "\n",
    "and the gradient according to Jähne\n",
    "\n",
    "$G2_y={G2_x}^T=\\frac{1}{32}\\left[\\begin{array}{ccc} -3 &-10& -3\\\\0&\n",
    "0 &0\\\\3 &10& 3\\end{array}\\right]$"
   ]
  },
  {
   "cell_type": "code",
   "execution_count": null,
   "metadata": {},
   "outputs": [],
   "source": [
    "G1x=0.5*np.array([[1 ,-1]])\n",
    "G1y=np.transpose(G1x)\n",
    "\n",
    "G2x = 1/32.0*np.array([[3,0,-3],[10,0,-10],[3,0,-3]])\n",
    "G2y = np.transpose(G2x)\n"
   ]
  },
  {
   "cell_type": "markdown",
   "metadata": {},
   "source": [
    "### Exercise 3\n",
    "Filter the test image with the kernels and compute the argument.\n",
    "Compare the argument with the true argument image. You will need\n",
    "to change the display interval using vmin and vmax in imshow. Conclusion?"
   ]
  },
  {
   "cell_type": "code",
   "execution_count": null,
   "metadata": {},
   "outputs": [],
   "source": [
    "# your code here\n",
    "plt.figure(figsize=[12,10])\n",
    "dfdx1=ndimage.convolve(f,G1x)\n",
    "dfdy1=ndimage.convolve(f,G1y)\n",
    "arg1=np.arctan2(dfdx1,dfdy1)\n",
    "plt.subplot(2,2,1)\n",
    "plt.imshow(arg1)\n",
    "plt.subplot(2,2,2)\n",
    "plt.imshow(arg1-argf,vmin=-0.1,vmax=0.1)\n",
    "plt.colorbar()\n",
    "\n",
    "dfdx2=ndimage.convolve(f,G2x)\n",
    "dfdy2=ndimage.convolve(f,G2y)\n",
    "\n",
    "arg2=np.arctan2(dfdx2,dfdy2)\n",
    "plt.subplot(2,2,3)\n",
    "plt.imshow(arg2)\n",
    "plt.subplot(2,2,4)\n",
    "plt.imshow(arg2-argf,vmin=-0.01,vmax=0.01)\n",
    "plt.colorbar()"
   ]
  },
  {
   "cell_type": "markdown",
   "metadata": {},
   "source": [
    "#### Answer\n",
    "The simple gradient produces much greater errors than the Jaehne gradient."
   ]
  },
  {
   "cell_type": "markdown",
   "metadata": {},
   "source": [
    "## Gradient performance with noisy images\n",
    "Use the noisy image you created for low pass filter images. Compute the\n",
    "gradient of the image. As you will see is the gradient sensitive\n",
    "to noise. To avoid this can a low-pass filter be applied before\n",
    "computing the gradient.\n",
    "\n",
    "Now compute the Laplacian of a smoothed image\n",
    "\n",
    "$g=\\triangle(G_{\\sigma}*(f+n))$\n",
    "\n",
    "Where $G_{\\sigma}$ is a Gaussian kernel with width $\\sigma$  and $n$ is the noise component, use Gaussian noise.\n",
    "\n",
    "### Exercise 4 (Optional)\n",
    "Implement this filter with the gradient defined by Jähne and try the performance with\n",
    "different $\\sigma$. What happens when $\\sigma$ is small? See what happens when the SNR decreases. "
   ]
  },
  {
   "cell_type": "code",
   "execution_count": null,
   "metadata": {
    "collapsed": true
   },
   "outputs": [],
   "source": [
    "# your code here\n",
    "plt.figure(figsize=[15,15])\n",
    "sigmas=[0.1,0.2,0.5,1]\n",
    "widths=[0,1,1.5,2]\n",
    "for [w,width] in enumerate(widths):\n",
    "    for [s,sigma] in enumerate(sigmas) :\n",
    "        noisy    = original + np.random.normal(0,sigma,original.shape) # add the Gaussian noise\n",
    "        g = ndimage.gaussian_filter(noisy,sigma=width)\n",
    "        dx=ndimage.convolve(ndimage.convolve(g,G2x),G2x)\n",
    "        dy=ndimage.convolve(ndimage.convolve(g,G2y),G2y)\n",
    "        lap = dx+dy \n",
    "        plt.subplot(len(widths),len(sigmas),w*len(sigmas)+s+1)\n",
    "        plt.imshow(lap)"
   ]
  },
  {
   "cell_type": "markdown",
   "metadata": {},
   "source": [
    "#### Answer\n",
    "The Laplacian is very sensitive to decreasing SNR but the edge detection ability can still be maintained using a smoothing kernel before computing the gradients."
   ]
  },
  {
   "cell_type": "code",
   "execution_count": null,
   "metadata": {},
   "outputs": [],
   "source": []
  }
 ],
 "metadata": {
  "kernelspec": {
   "display_name": "Python 3",
   "language": "python",
   "name": "python3"
  },
  "language_info": {
   "codemirror_mode": {
    "name": "ipython",
    "version": 3
   },
   "file_extension": ".py",
   "mimetype": "text/x-python",
   "name": "python",
   "nbconvert_exporter": "python",
   "pygments_lexer": "ipython3",
   "version": "3.7.3"
  }
 },
 "nbformat": 4,
 "nbformat_minor": 2
}
